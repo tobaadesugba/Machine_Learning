{
 "cells": [
  {
   "cell_type": "code",
   "execution_count": 2,
   "metadata": {
    "collapsed": true
   },
   "outputs": [],
   "source": [
    "import matplotlib.pyplot as plt\n",
    "import pandas as pd"
   ]
  },
  {
   "cell_type": "markdown",
   "source": [
    "For the preliminary dat6a analysis, we won't be making use of the actual image files. All we have to import here are the 5-fold txt files and then combine them into one full fold."
   ],
   "metadata": {
    "collapsed": false
   }
  },
  {
   "cell_type": "code",
   "execution_count": 3,
   "outputs": [],
   "source": [
    "dataset_location = r\"D:/The Great Big World of Machine Learning/Projects/datasets/AdienceBenchmarkGenderAndAgeClassification/\""
   ],
   "metadata": {
    "collapsed": false,
    "pycharm": {
     "name": "#%%\n"
    }
   }
  },
  {
   "cell_type": "code",
   "execution_count": 4,
   "outputs": [],
   "source": [
    "fold_1 = pd.read_table(dataset_location+\"fold_1_data.txt\", delimiter=\"\\t\")\n",
    "fold_2 = pd.read_table(dataset_location+\"fold_2_data.txt\", delimiter=\"\\t\")\n",
    "fold_3 = pd.read_table(dataset_location+\"fold_3_data.txt\", delimiter=\"\\t\")\n",
    "fold_4 = pd.read_table(dataset_location+\"fold_4_data.txt\", delimiter=\"\\t\")\n",
    "fold_0 = pd.read_table(dataset_location+\"fold_0_data.txt\", delimiter=\"\\t\")"
   ],
   "metadata": {
    "collapsed": false,
    "pycharm": {
     "name": "#%%\n"
    }
   }
  },
  {
   "cell_type": "code",
   "execution_count": 5,
   "outputs": [
    {
     "name": "stdout",
     "output_type": "stream",
     "text": [
      "        user_id                original_image  face_id       age gender     x  \\\n",
      "0  30601258@N03  10399646885_67c7d20df9_o.jpg        1  (25, 32)      f     0   \n",
      "1  30601258@N03  10424815813_e94629b1ec_o.jpg        2  (25, 32)      m   301   \n",
      "2  30601258@N03  10437979845_5985be4b26_o.jpg        1  (25, 32)      f  2395   \n",
      "\n",
      "     y    dx    dy  tilt_ang  fiducial_yaw_angle  fiducial_score  \n",
      "0  414  1086  1383      -115                  30              17  \n",
      "1  105   640   641         0                   0              94  \n",
      "2  876   771   771       175                 -30              74  \n",
      "        user_id                original_image  face_id     age gender    x  \\\n",
      "0  64504106@N06  11831304783_488d6c3a6d_o.jpg      911  (0, 2)      m  438   \n",
      "1  64504106@N06  11849646776_35253e988f_o.jpg      911  (0, 2)      m   19   \n",
      "2  64504106@N06  11848166326_57b03f535e_o.jpg      911  (0, 2)      m  382   \n",
      "\n",
      "     y    dx    dy  tilt_ang  fiducial_yaw_angle  fiducial_score  \n",
      "0  914   605   606       -90                   0             123  \n",
      "1  712  1944  1736      -105                   0              86  \n",
      "2  680  1785  1768       -80                   0              14  \n",
      "         user_id                original_image  face_id       age gender    x  \\\n",
      "0  115321157@N03  12111738395_a7f715aa4e_o.jpg     1744    (4, 6)      m  663   \n",
      "1  115321157@N03  12112413505_0aea8e17c6_o.jpg     1745  (48, 53)      m  505   \n",
      "2  115321157@N03  12112392255_995532c2f0_o.jpg     1744    (4, 6)      m  517   \n",
      "\n",
      "      y   dx   dy  tilt_ang  fiducial_yaw_angle  fiducial_score  \n",
      "0   997  637  638       -95                   0             129  \n",
      "1   846  433  433       -95                   0              72  \n",
      "2  1185  383  383         0                   0              70  \n"
     ]
    }
   ],
   "source": [
    "print(fold_0.head(3))\n",
    "print(fold_2.head(3))\n",
    "print(fold_4.head(3))"
   ],
   "metadata": {
    "collapsed": false,
    "pycharm": {
     "name": "#%%\n"
    }
   }
  },
  {
   "cell_type": "markdown",
   "source": [
    "## Concatenating the 5 folds\n",
    "\n",
    "We need the folds as one since we are not training any models here."
   ],
   "metadata": {
    "collapsed": false
   }
  },
  {
   "cell_type": "code",
   "execution_count": 6,
   "outputs": [],
   "source": [
    "#Joining The 5 folds\n",
    "faces_dataset = pd.concat([fold_0, fold_1, fold_2, fold_3, fold_4])"
   ],
   "metadata": {
    "collapsed": false,
    "pycharm": {
     "name": "#%%\n"
    }
   }
  },
  {
   "cell_type": "code",
   "execution_count": 7,
   "outputs": [
    {
     "name": "stdout",
     "output_type": "stream",
     "text": [
      "<class 'pandas.core.frame.DataFrame'>\n",
      "Int64Index: 19370 entries, 0 to 3815\n",
      "Data columns (total 12 columns):\n",
      " #   Column              Non-Null Count  Dtype \n",
      "---  ------              --------------  ----- \n",
      " 0   user_id             19370 non-null  object\n",
      " 1   original_image      19370 non-null  object\n",
      " 2   face_id             19370 non-null  int64 \n",
      " 3   age                 19370 non-null  object\n",
      " 4   gender              18591 non-null  object\n",
      " 5   x                   19370 non-null  int64 \n",
      " 6   y                   19370 non-null  int64 \n",
      " 7   dx                  19370 non-null  int64 \n",
      " 8   dy                  19370 non-null  int64 \n",
      " 9   tilt_ang            19370 non-null  int64 \n",
      " 10  fiducial_yaw_angle  19370 non-null  int64 \n",
      " 11  fiducial_score      19370 non-null  int64 \n",
      "dtypes: int64(8), object(4)\n",
      "memory usage: 1.9+ MB\n"
     ]
    }
   ],
   "source": [
    "faces_dataset.info()"
   ],
   "metadata": {
    "collapsed": false,
    "pycharm": {
     "name": "#%%\n"
    }
   }
  },
  {
   "cell_type": "markdown",
   "source": [
    "# Drop Irrelevant Features\n",
    "\n",
    "According to the details of the dataset, the x, y. dx, dy, tilt_ang, fiducial_yaw_angle and fiducial_score features relate to the position fo the face in the original image the dataset was gotten from. We won't require it in this project so we can drop it."
   ],
   "metadata": {
    "collapsed": false
   }
  },
  {
   "cell_type": "code",
   "execution_count": 8,
   "outputs": [
    {
     "name": "stdout",
     "output_type": "stream",
     "text": [
      "<class 'pandas.core.frame.DataFrame'>\n",
      "Int64Index: 19370 entries, 0 to 3815\n",
      "Data columns (total 5 columns):\n",
      " #   Column          Non-Null Count  Dtype \n",
      "---  ------          --------------  ----- \n",
      " 0   user_id         19370 non-null  object\n",
      " 1   original_image  19370 non-null  object\n",
      " 2   face_id         19370 non-null  int64 \n",
      " 3   age             19370 non-null  object\n",
      " 4   gender          18591 non-null  object\n",
      "dtypes: int64(1), object(4)\n",
      "memory usage: 908.0+ KB\n",
      "None\n"
     ]
    }
   ],
   "source": [
    "faces_dataset = faces_dataset.drop(['x', 'y', 'dx', 'dy', 'tilt_ang', 'fiducial_yaw_angle', 'fiducial_score'], axis=1)\n",
    "print(faces_dataset.info())"
   ],
   "metadata": {
    "collapsed": false,
    "pycharm": {
     "name": "#%%\n"
    }
   }
  },
  {
   "cell_type": "markdown",
   "source": [
    "## Handle Missing Data\n",
    "\n",
    "Let's see if we have any missing values. Since we will be checking for missing values more than once, we should create a function for that specific purpose, no need to reinvent the wheel."
   ],
   "metadata": {
    "collapsed": false
   }
  },
  {
   "cell_type": "code",
   "execution_count": 9,
   "outputs": [],
   "source": [
    "def missing_info(dataset):\n",
    "    na_values = pd.isna(dataset)\n",
    "    na_features = na_values.any()\n",
    "    print(na_features)\n",
    "    print()\n",
    "\n",
    "    #Finding Number of missing values\n",
    "    total = len(na_values)\n",
    "    missing = sum(na_values.gender)\n",
    "    percent = (missing/total) * 100\n",
    "    print(f\"Total values: {total}\")\n",
    "    print(f\"Missing Values in Gender: {missing}\")\n",
    "    print(f\"Percentage missing: {round(percent, 2)}%\")"
   ],
   "metadata": {
    "collapsed": false,
    "pycharm": {
     "name": "#%%\n"
    }
   }
  },
  {
   "cell_type": "code",
   "execution_count": 10,
   "outputs": [
    {
     "name": "stdout",
     "output_type": "stream",
     "text": [
      "user_id           False\n",
      "original_image    False\n",
      "face_id           False\n",
      "age               False\n",
      "gender             True\n",
      "dtype: bool\n",
      "\n",
      "Total values: 19370\n",
      "Missing Values in Gender: 779\n",
      "Percentage missing: 4.02%\n"
     ]
    }
   ],
   "source": [
    "#check faces_dataset for missing values\n",
    "missing_info(faces_dataset)"
   ],
   "metadata": {
    "collapsed": false,
    "pycharm": {
     "name": "#%%\n"
    }
   }
  },
  {
   "cell_type": "markdown",
   "source": [
    "Gender was the only column that had missing values and after further analysis, only 4% of it was missing, this means we can get away with dropping the values. However, We are dealing with two labels here (gender and age). Since age is complete, we have to split the dataset into 2 before dropping."
   ],
   "metadata": {
    "collapsed": false
   }
  },
  {
   "cell_type": "code",
   "execution_count": 85,
   "outputs": [],
   "source": [
    "age_dataset = faces_dataset.drop(\"gender\", axis=1)"
   ],
   "metadata": {
    "collapsed": false,
    "pycharm": {
     "name": "#%%\n"
    }
   }
  },
  {
   "cell_type": "code",
   "execution_count": 12,
   "outputs": [
    {
     "name": "stdout",
     "output_type": "stream",
     "text": [
      "user_id           False\n",
      "original_image    False\n",
      "face_id           False\n",
      "gender            False\n",
      "dtype: bool\n",
      "\n",
      "Total values: 18591\n",
      "Missing Values in Gender: 0\n",
      "Percentage missing: 0.0%\n"
     ]
    }
   ],
   "source": [
    "gender_dataset = faces_dataset.drop(\"age\", axis=1).dropna()\n",
    "missing_info(gender_dataset)"
   ],
   "metadata": {
    "collapsed": false,
    "pycharm": {
     "name": "#%%\n"
    }
   }
  },
  {
   "cell_type": "markdown",
   "source": [
    "The missing values have now been handled and two new datasets have been created. However, it might seem that Gender has no missing values but let's further inspect by checking the unique values of gender."
   ],
   "metadata": {
    "collapsed": false
   }
  },
  {
   "cell_type": "code",
   "execution_count": 13,
   "outputs": [
    {
     "data": {
      "text/plain": "array(['f', 'm', 'u'], dtype=object)"
     },
     "execution_count": 13,
     "metadata": {},
     "output_type": "execute_result"
    }
   ],
   "source": [
    "gender_dataset['gender'].unique()"
   ],
   "metadata": {
    "collapsed": false,
    "pycharm": {
     "name": "#%%\n"
    }
   }
  },
  {
   "cell_type": "markdown",
   "source": [
    "\"u\" is a value that marks unidentified genders. This also means missing values, we have to deal with that but let's see how much missing data we're dealing with."
   ],
   "metadata": {
    "collapsed": false
   }
  },
  {
   "cell_type": "code",
   "execution_count": 14,
   "outputs": [
    {
     "name": "stdout",
     "output_type": "stream",
     "text": [
      "Total values: 18591\n",
      "Missing Values in Gender: 1099\n",
      "Percentage missing: 5.91%\n"
     ]
    }
   ],
   "source": [
    "na_values = gender_dataset[\"gender\"]=='u'\n",
    "#Finding Number of missing values\n",
    "total = len(na_values)\n",
    "missing = sum(na_values)\n",
    "percent = (missing/total) * 100\n",
    "print(f\"Total values: {total}\")\n",
    "print(f\"Missing Values in Gender: {missing}\")\n",
    "print(f\"Percentage missing: {round(percent, 2)}%\")"
   ],
   "metadata": {
    "collapsed": false,
    "pycharm": {
     "name": "#%%\n"
    }
   }
  },
  {
   "cell_type": "markdown",
   "source": [
    "It's only about 6% of 18,591, so we can drop it."
   ],
   "metadata": {
    "collapsed": false
   }
  },
  {
   "cell_type": "code",
   "execution_count": 15,
   "outputs": [
    {
     "data": {
      "text/plain": "array(['f', 'm'], dtype=object)"
     },
     "execution_count": 15,
     "metadata": {},
     "output_type": "execute_result"
    }
   ],
   "source": [
    "gender_dataset = gender_dataset[gender_dataset.gender != 'u']\n",
    "gender_dataset['gender'].unique()"
   ],
   "metadata": {
    "collapsed": false,
    "pycharm": {
     "name": "#%%\n"
    }
   }
  },
  {
   "cell_type": "markdown",
   "source": [
    "## Handling Inconsistent Features\n",
    "\n",
    "Let us examine the 'age' column a little more."
   ],
   "metadata": {
    "collapsed": false
   }
  },
  {
   "cell_type": "code",
   "execution_count": 16,
   "outputs": [
    {
     "name": "stdout",
     "output_type": "stream",
     "text": [
      "['(25, 32)' '(38, 43)' '(4, 6)' '(60, 100)' '(15, 20)' '(48, 53)'\n",
      " '(8, 12)' '(0, 2)' 'None' '(38, 48)' '35' '3' '55' '58' '22' '13' '45'\n",
      " '36' '23' '(38, 42)' '(8, 23)' '(27, 32)' '57' '56' '2' '29' '34' '42'\n",
      " '46' '32']\n"
     ]
    }
   ],
   "source": [
    "print(age_dataset['age'].unique())"
   ],
   "metadata": {
    "collapsed": false,
    "pycharm": {
     "name": "#%%\n"
    }
   }
  },
  {
   "cell_type": "markdown",
   "source": [
    "It can be observed that there are lots of inconsistent values in the age column, including missing values. The missing values were denoted using 'none' which is not the usual convention for missing values in pandas dataframes. We will merge some of these inconsistencies and also see if we should drop the missing values."
   ],
   "metadata": {
    "collapsed": false
   }
  },
  {
   "cell_type": "code",
   "execution_count": 17,
   "outputs": [
    {
     "name": "stdout",
     "output_type": "stream",
     "text": [
      "Total values: 19370\n",
      "Missing Values in Age: 748\n",
      "Percentage missing: 3.86%\n"
     ]
    }
   ],
   "source": [
    "na_values = age_dataset[\"age\"]=='None'\n",
    "#Finding Number of missing values\n",
    "total = len(na_values)\n",
    "missing = sum(na_values)\n",
    "percent = (missing/total) * 100\n",
    "print(f\"Total values: {total}\")\n",
    "print(f\"Missing Values in Age: {missing}\")\n",
    "print(f\"Percentage missing: {round(percent, 2)}%\")"
   ],
   "metadata": {
    "collapsed": false,
    "pycharm": {
     "name": "#%%\n"
    }
   }
  },
  {
   "cell_type": "code",
   "execution_count": 86,
   "outputs": [
    {
     "name": "stdout",
     "output_type": "stream",
     "text": [
      "['(25, 32)' '(38, 43)' '(4, 6)' '(60, 100)' '(15, 20)' '(48, 53)'\n",
      " '(8, 12)' '(0, 2)' '(38, 48)' '35' '3' '55' '58' '22' '13' '45' '36' '23'\n",
      " '(38, 42)' '(8, 23)' '(27, 32)' '57' '56' '2' '29' '34' '42' '46' '32']\n"
     ]
    }
   ],
   "source": [
    "#dropping None values\n",
    "age_dataset = age_dataset[age_dataset.age != 'None']\n",
    "print(age_dataset['age'].unique())"
   ],
   "metadata": {
    "collapsed": false,
    "pycharm": {
     "name": "#%%\n"
    }
   }
  },
  {
   "cell_type": "markdown",
   "source": [
    "**Merging Operations**\n",
    "To determine which categories we would merge, knowing the amount of data in each category will help."
   ],
   "metadata": {
    "collapsed": false
   }
  },
  {
   "cell_type": "code",
   "execution_count": 19,
   "outputs": [
    {
     "data": {
      "text/plain": "           user_id  original_image  face_id\nage                                        \n(0, 2)        2488            2488     2488\n(15, 20)      1642            1642     1642\n(25, 32)      5004            5004     5004\n(27, 32)        77              77       77\n(38, 42)        46              46       46\n(38, 43)      2293            2293     2293\n(38, 48)         6               6        6\n(4, 6)        2140            2140     2140\n(48, 53)       830             830      830\n(60, 100)      872             872      872\n(8, 12)       2124            2124     2124\n(8, 23)          1               1        1\n13             168             168      168\n2                3               3        3\n22             149             149      149\n23              96              96       96\n29              11              11       11\n3               18              18       18\n32               3               3        3\n34             105             105      105\n35             293             293      293\n36              56              56       56\n42               1               1        1\n45              88              88       88\n46               1               1        1\n55              76              76       76\n56               2               2        2\n57              24              24       24\n58               5               5        5",
      "text/html": "<div>\n<style scoped>\n    .dataframe tbody tr th:only-of-type {\n        vertical-align: middle;\n    }\n\n    .dataframe tbody tr th {\n        vertical-align: top;\n    }\n\n    .dataframe thead th {\n        text-align: right;\n    }\n</style>\n<table border=\"1\" class=\"dataframe\">\n  <thead>\n    <tr style=\"text-align: right;\">\n      <th></th>\n      <th>user_id</th>\n      <th>original_image</th>\n      <th>face_id</th>\n    </tr>\n    <tr>\n      <th>age</th>\n      <th></th>\n      <th></th>\n      <th></th>\n    </tr>\n  </thead>\n  <tbody>\n    <tr>\n      <th>(0, 2)</th>\n      <td>2488</td>\n      <td>2488</td>\n      <td>2488</td>\n    </tr>\n    <tr>\n      <th>(15, 20)</th>\n      <td>1642</td>\n      <td>1642</td>\n      <td>1642</td>\n    </tr>\n    <tr>\n      <th>(25, 32)</th>\n      <td>5004</td>\n      <td>5004</td>\n      <td>5004</td>\n    </tr>\n    <tr>\n      <th>(27, 32)</th>\n      <td>77</td>\n      <td>77</td>\n      <td>77</td>\n    </tr>\n    <tr>\n      <th>(38, 42)</th>\n      <td>46</td>\n      <td>46</td>\n      <td>46</td>\n    </tr>\n    <tr>\n      <th>(38, 43)</th>\n      <td>2293</td>\n      <td>2293</td>\n      <td>2293</td>\n    </tr>\n    <tr>\n      <th>(38, 48)</th>\n      <td>6</td>\n      <td>6</td>\n      <td>6</td>\n    </tr>\n    <tr>\n      <th>(4, 6)</th>\n      <td>2140</td>\n      <td>2140</td>\n      <td>2140</td>\n    </tr>\n    <tr>\n      <th>(48, 53)</th>\n      <td>830</td>\n      <td>830</td>\n      <td>830</td>\n    </tr>\n    <tr>\n      <th>(60, 100)</th>\n      <td>872</td>\n      <td>872</td>\n      <td>872</td>\n    </tr>\n    <tr>\n      <th>(8, 12)</th>\n      <td>2124</td>\n      <td>2124</td>\n      <td>2124</td>\n    </tr>\n    <tr>\n      <th>(8, 23)</th>\n      <td>1</td>\n      <td>1</td>\n      <td>1</td>\n    </tr>\n    <tr>\n      <th>13</th>\n      <td>168</td>\n      <td>168</td>\n      <td>168</td>\n    </tr>\n    <tr>\n      <th>2</th>\n      <td>3</td>\n      <td>3</td>\n      <td>3</td>\n    </tr>\n    <tr>\n      <th>22</th>\n      <td>149</td>\n      <td>149</td>\n      <td>149</td>\n    </tr>\n    <tr>\n      <th>23</th>\n      <td>96</td>\n      <td>96</td>\n      <td>96</td>\n    </tr>\n    <tr>\n      <th>29</th>\n      <td>11</td>\n      <td>11</td>\n      <td>11</td>\n    </tr>\n    <tr>\n      <th>3</th>\n      <td>18</td>\n      <td>18</td>\n      <td>18</td>\n    </tr>\n    <tr>\n      <th>32</th>\n      <td>3</td>\n      <td>3</td>\n      <td>3</td>\n    </tr>\n    <tr>\n      <th>34</th>\n      <td>105</td>\n      <td>105</td>\n      <td>105</td>\n    </tr>\n    <tr>\n      <th>35</th>\n      <td>293</td>\n      <td>293</td>\n      <td>293</td>\n    </tr>\n    <tr>\n      <th>36</th>\n      <td>56</td>\n      <td>56</td>\n      <td>56</td>\n    </tr>\n    <tr>\n      <th>42</th>\n      <td>1</td>\n      <td>1</td>\n      <td>1</td>\n    </tr>\n    <tr>\n      <th>45</th>\n      <td>88</td>\n      <td>88</td>\n      <td>88</td>\n    </tr>\n    <tr>\n      <th>46</th>\n      <td>1</td>\n      <td>1</td>\n      <td>1</td>\n    </tr>\n    <tr>\n      <th>55</th>\n      <td>76</td>\n      <td>76</td>\n      <td>76</td>\n    </tr>\n    <tr>\n      <th>56</th>\n      <td>2</td>\n      <td>2</td>\n      <td>2</td>\n    </tr>\n    <tr>\n      <th>57</th>\n      <td>24</td>\n      <td>24</td>\n      <td>24</td>\n    </tr>\n    <tr>\n      <th>58</th>\n      <td>5</td>\n      <td>5</td>\n      <td>5</td>\n    </tr>\n  </tbody>\n</table>\n</div>"
     },
     "execution_count": 19,
     "metadata": {},
     "output_type": "execute_result"
    }
   ],
   "source": [
    "age_dataset.groupby('age').count()"
   ],
   "metadata": {
    "collapsed": false,
    "pycharm": {
     "name": "#%%\n"
    }
   }
  },
  {
   "cell_type": "markdown",
   "source": [
    "**List of Merging Operations**\n",
    "- (0 - 3) = [(0, 2), 2, 3]\n",
    "- (4 - 6) = [(4, 6)]\n",
    "- (8 - 13) = [(8, 12), (8, 23), 13]\n",
    "- (15 - 23) = [(15, 20), 22, 23]\n",
    "- (25 - 36) = [(25, 32), (27, 32), 29, 32, 34, 35, 36]\n",
    "- (38 - 48) = [(38, 42), (38, 43), (38, 48), 42, 45, 46]\n",
    "- (48 - 58) = [(48, 53), 55, 56, 57, 58]\n",
    "- (60 - 100) = (60, 100)\n",
    "\n",
    "The ages will be manually merged by visual analysis of the insistent age data. The data on the right will be filtered out to replace them with the new value on the left. We will put this data into a dictionary and then iterate through it to clean up our dataset"
   ],
   "metadata": {
    "collapsed": false
   }
  },
  {
   "cell_type": "markdown",
   "source": [],
   "metadata": {
    "collapsed": false
   }
  },
  {
   "cell_type": "code",
   "execution_count": 79,
   "outputs": [],
   "source": [
    "merge_values = {\n",
    "                    \"(0 - 3)\":[\"(0, 2)\", '2', '3'],\n",
    "                    \"(4 - 6)\":['(4, 6)'],\n",
    "                    \"(8 - 13)\":['(8, 12)', '(8, 23)', '13'],\n",
    "                    \"(15 - 23)\":['(15, 20)', '22', '23'],\n",
    "                    \"(25 - 36)\":['(25, 32)', '(27, 32)', '29', '32', '34', '35', '36'],\n",
    "                    \"(38 - 48)\":['(38, 42)', '(38, 43)', '(38, 48)', '42', '45', '46'],\n",
    "                    \"(48 - 58)\":['(48, 53)', '55', '56', '57', '58']\n",
    "}"
   ],
   "metadata": {
    "collapsed": false,
    "pycharm": {
     "name": "#%%\n"
    }
   }
  },
  {
   "cell_type": "code",
   "execution_count": 88,
   "outputs": [
    {
     "name": "stdout",
     "output_type": "stream",
     "text": [
      "           user_id  original_image  face_id\n",
      "age                                        \n",
      "(0 - 3)       2509            2509     2509\n",
      "(15 - 23)     1887            1887     1887\n",
      "(25 - 36)     5549            5549     5549\n",
      "(38 - 48)     2435            2435     2435\n",
      "(4 - 6)       2140            2140     2140\n",
      "(48 - 58)      937             937      937\n",
      "(60, 100)      872             872      872\n",
      "(8 - 13)      2293            2293     2293\n"
     ]
    },
    {
     "name": "stderr",
     "output_type": "stream",
     "text": [
      "D:\\Applications\\Anaconda\\lib\\site-packages\\pandas\\core\\indexing.py:1732: SettingWithCopyWarning: \n",
      "A value is trying to be set on a copy of a slice from a DataFrame\n",
      "\n",
      "See the caveats in the documentation: https://pandas.pydata.org/pandas-docs/stable/user_guide/indexing.html#returning-a-view-versus-a-copy\n",
      "  self._setitem_single_block(indexer, value, name)\n"
     ]
    }
   ],
   "source": [
    "for key in merge_values:\n",
    "    age_col = age_dataset['age']\n",
    "    age_col.iloc[age_col.isin(merge_values[key])] = key"
   ],
   "metadata": {
    "collapsed": false,
    "pycharm": {
     "name": "#%%\n"
    }
   }
  },
  {
   "cell_type": "code",
   "execution_count": 90,
   "outputs": [
    {
     "name": "stdout",
     "output_type": "stream",
     "text": [
      "['(25 - 36)' '(38 - 48)' '(4 - 6)' '(60, 100)' '(15 - 23)' '(48 - 58)'\n",
      " '(8 - 13)' '(0 - 3)']\n"
     ]
    }
   ],
   "source": [
    "print(age_dataset['age'].unique()) #show the new age labels"
   ],
   "metadata": {
    "collapsed": false,
    "pycharm": {
     "name": "#%%\n"
    }
   }
  },
  {
   "cell_type": "markdown",
   "source": [
    "## Data Visualization\n",
    "\n",
    "Our main focus are the labels; age and gender. While the image files are the main features we're working with. That limits the analysis we can do on this dataset but nonetheless we can visualize the number of what we are working with on a bar plot."
   ],
   "metadata": {
    "collapsed": false
   }
  },
  {
   "cell_type": "code",
   "execution_count": 91,
   "outputs": [
    {
     "data": {
      "text/plain": "<Figure size 432x288 with 1 Axes>",
      "image/png": "[encoded data removed]"
     },
     "metadata": {
      "needs_background": "light"
     },
     "output_type": "display_data"
    }
   ],
   "source": [
    "plot_df = age_dataset[['face_id', 'age']].groupby('age').count()\n",
    "plot_df.plot.bar()\n",
    "plt.title('Age vs. Number of faces')\n",
    "plt.xlabel(\"Age\")\n",
    "plt.show()"
   ],
   "metadata": {
    "collapsed": false,
    "pycharm": {
     "name": "#%%\n"
    }
   }
  },
  {
   "cell_type": "code",
   "execution_count": 92,
   "outputs": [
    {
     "data": {
      "text/plain": "<Figure size 432x288 with 1 Axes>",
      "image/png": "[encoded data removed]"
     },
     "metadata": {
      "needs_background": "light"
     },
     "output_type": "display_data"
    }
   ],
   "source": [
    "plot_df = gender_dataset[['face_id', 'gender']].groupby('gender').count()\n",
    "plot_df.plot.bar()\n",
    "plt.title('Gender vs. Number of faces')\n",
    "plt.xlabel(\"Gender\")\n",
    "plt.show()"
   ],
   "metadata": {
    "collapsed": false,
    "pycharm": {
     "name": "#%%\n"
    }
   }
  },
  {
   "cell_type": "markdown",
   "source": [
    "From the bar plot, it is apparent that the number of male and female Genders are almost balanced. Meanwhile, in the age dataset, the number of faces between ages 25 and 36 are way more than the rest by over 50%, since we will be using neural network for this task, we don't need to bother handling it. Now we save the two datasets to file."
   ],
   "metadata": {
    "collapsed": false
   }
  },
  {
   "cell_type": "code",
   "execution_count": 93,
   "outputs": [],
   "source": [
    "age_dataset.to_csv('age_data.csv', index=False)\n",
    "gender_dataset.to_csv('gender_data.csv', index=False)"
   ],
   "metadata": {
    "collapsed": false,
    "pycharm": {
     "name": "#%%\n"
    }
   }
  }
 ],
 "metadata": {
  "kernelspec": {
   "display_name": "Python 3",
   "language": "python",
   "name": "python3"
  },
  "language_info": {
   "codemirror_mode": {
    "name": "ipython",
    "version": 2
   },
   "file_extension": ".py",
   "mimetype": "text/x-python",
   "name": "python",
   "nbconvert_exporter": "python",
   "pygments_lexer": "ipython2",
   "version": "2.7.6"
  }
 },
 "nbformat": 4,
 "nbformat_minor": 0
}