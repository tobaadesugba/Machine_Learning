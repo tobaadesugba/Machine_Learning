{
 "cells": [
  {
   "cell_type": "code",
   "execution_count": 11,
   "metadata": {},
   "outputs": [],
   "source": [
    "import yfinance as yf\n",
    "from datetime import date\n"
   ]
  },
  {
   "cell_type": "code",
   "execution_count": 21,
   "metadata": {},
   "outputs": [],
   "source": [
    "def get_OHLC_today(ticker, for_prediction=False):\n",
    "    #get OHLC for ticker for today\n",
    "    today = date.today().strftime(\"%Y-%m-%d\")\n",
    "    ticker_data = yf.download(\n",
    "        tickers=ticker,\n",
    "        start=today, end=today,\n",
    "        progress=False)\n",
    "\n",
    "    ticker_data['Date'] = ticker_data.index\n",
    "    ticker_data = ticker_data[['Open', 'High', 'Low', 'Close', 'Adj Close', 'Volume']]\n",
    "    ticker_data.reset_index(inplace=True, drop=True)   \n",
    "    \n",
    "    #check to see if dataframe is empty\n",
    "    if ticker_data.empty:\n",
    "        return -1 ##-1 is used as placeholder for empty data\n",
    "        \n",
    "    #remove close and adj close value for prediction\n",
    "    if for_prediction:\n",
    "        ticker_data = ticker_data.drop(['Close', 'Adj Close'], axis=1)\n",
    "        return list(ticker_data.loc[0])\n",
    "\n",
    "    #return as list in format [open, high, low, close, adj close, volume]\n",
    "    return ticker_data"
   ]
  },
  {
   "cell_type": "code",
   "execution_count": 13,
   "metadata": {},
   "outputs": [],
   "source": [
    "from keras.models import load_model"
   ]
  },
  {
   "cell_type": "code",
   "execution_count": 14,
   "metadata": {},
   "outputs": [],
   "source": [
    "def get_close_prediction(ticker, OHLV_list):\n",
    "    #load model\n",
    "    model = load_model(ticker+\"_no_adjustments\")\n",
    "    #make predictions\n",
    "    pred = model.predict(OHLV_list)\n",
    "    #return predictions\n",
    "    return pred"
   ]
  },
  {
   "cell_type": "code",
   "execution_count": 22,
   "metadata": {},
   "outputs": [
    {
     "name": "stdout",
     "output_type": "stream",
     "text": [
      "\n",
      "1 Failed download:\n",
      "- ETH-USD: No data found for this date range, symbol may be delisted\n"
     ]
    },
    {
     "data": {
      "text/plain": [
       "-1"
      ]
     },
     "execution_count": 22,
     "metadata": {},
     "output_type": "execute_result"
    }
   ],
   "source": [
    "get_OHLC_today('ETH-USD', True)"
   ]
  }
 ],
 "metadata": {
  "interpreter": {
   "hash": "1e39ea40d930fad80229b71299720e8fcb3180d14dfd93110ce33bfc8564c90d"
  },
  "kernelspec": {
   "display_name": "Python 3.7.11 ('venv')",
   "language": "python",
   "name": "python3"
  },
  "language_info": {
   "codemirror_mode": {
    "name": "ipython",
    "version": 3
   },
   "file_extension": ".py",
   "mimetype": "text/x-python",
   "name": "python",
   "nbconvert_exporter": "python",
   "pygments_lexer": "ipython3",
   "version": "3.7.11"
  },
  "orig_nbformat": 4
 },
 "nbformat": 4,
 "nbformat_minor": 2
}
