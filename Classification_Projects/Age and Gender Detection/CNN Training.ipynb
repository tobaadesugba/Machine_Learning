{
 "cells": [
  {
   "cell_type": "code",
   "execution_count": 1,
   "outputs": [],
   "source": [
    "import tensorflow as tf"
   ],
   "metadata": {
    "collapsed": false,
    "pycharm": {
     "name": "#%%\n"
    }
   }
  },
  {
   "cell_type": "markdown",
   "metadata": {
    "collapsed": true,
    "pycharm": {
     "name": "#%% md\n"
    }
   },
   "source": [
    "### Loading The Dataset"
   ]
  },
  {
   "cell_type": "code",
   "execution_count": 2,
   "outputs": [],
   "source": [
    "\n",
    "def load_data(data, mode):\n",
    "    save_path = \"D:\\\\The Great Big World of Machine Learning\\Projects\\datasets\\AdienceBenchmarkGenderAndAgeClassification\\\\TFDataset\"\n",
    "    dataset = tf.data.experimental.load(save_path+\"\\\\\"+data+\"\\\\\"+mode) # save dataset to file\n",
    "    print(f\"{data} {mode} loaded\")\n",
    "    return dataset"
   ],
   "metadata": {
    "collapsed": false,
    "pycharm": {
     "name": "#%%\n"
    }
   }
  },
  {
   "cell_type": "code",
   "execution_count": 3,
   "outputs": [
    {
     "name": "stdout",
     "output_type": "stream",
     "text": [
      "age train loaded\n",
      "age test loaded\n",
      "age val loaded\n",
      "gender train loaded\n",
      "gender test loaded\n",
      "gender val loaded\n"
     ]
    }
   ],
   "source": [
    "datasets = {'age': [],\n",
    "            'gender': []\n",
    "            }\n",
    "modes = ['train', 'test', 'val']\n",
    "\n",
    "for datum in datasets.keys():\n",
    "    for mode in modes:\n",
    "        data = load_data(data=datum, mode=mode)\n",
    "        datasets[datum].append(data)\n"
   ],
   "metadata": {
    "collapsed": false,
    "pycharm": {
     "name": "#%%\n"
    }
   }
  },
  {
   "cell_type": "code",
   "execution_count": 4,
   "outputs": [
    {
     "data": {
      "text/plain": "2625"
     },
     "execution_count": 4,
     "metadata": {},
     "output_type": "execute_result"
    }
   ],
   "source": [
    "\n",
    "[i for i,_ in enumerate(datasets['gender'][2])][-1] + 1"
   ],
   "metadata": {
    "collapsed": false,
    "pycharm": {
     "name": "#%%\n"
    }
   }
  },
  {
   "cell_type": "code",
   "execution_count": 5,
   "outputs": [],
   "source": [
    "from Training_Module import AgeGenderModel"
   ],
   "metadata": {
    "collapsed": false,
    "pycharm": {
     "name": "#%%\n"
    }
   }
  },
  {
   "cell_type": "code",
   "execution_count": 6,
   "outputs": [],
   "source": [
    "# define model layers\n",
    "output_size = 2 # num of classes\n",
    "batch_size = 15\n",
    "age_train_data = datasets['age'][0].batch(batch_size) # training data\n",
    "age_test_data = datasets['age'][1]\n",
    "age_val_data = datasets['age'][2]"
   ],
   "metadata": {
    "collapsed": false,
    "pycharm": {
     "name": "#%%\n"
    }
   }
  },
  {
   "cell_type": "code",
   "execution_count": 7,
   "outputs": [
    {
     "name": "stdout",
     "output_type": "stream",
     "text": [
      "Model: \"sequential\"\n",
      "_________________________________________________________________\n",
      " Layer (type)                Output Shape              Param #   \n",
      "=================================================================\n",
      " conv1 (Conv2D)              (None, 64, 64, 32)        2432      \n",
      "                                                                 \n",
      " pool1 (MaxPooling2D)        (None, 32, 32, 32)        0         \n",
      "                                                                 \n",
      " conv2 (Conv2D)              (None, 32, 32, 64)        51264     \n",
      "                                                                 \n",
      " pool2 (MaxPooling2D)        (None, 16, 16, 64)        0         \n",
      "                                                                 \n",
      " conv3 (Conv2D)              (None, 16, 16, 128)       204928    \n",
      "                                                                 \n",
      " pool3 (MaxPooling2D)        (None, 8, 8, 128)         0         \n",
      "                                                                 \n",
      " conv4 (Conv2D)              (None, 8, 8, 128)         409728    \n",
      "                                                                 \n",
      " pool4 (MaxPooling2D)        (None, 4, 4, 128)         0         \n",
      "                                                                 \n",
      " flatten (Flatten)           (None, 2048)              0         \n",
      "                                                                 \n",
      " dense_flatten (Dense)       (None, 1024)              2098176   \n",
      "                                                                 \n",
      " dropout (Dropout)           (None, 1024)              0         \n",
      "                                                                 \n",
      " logits (Dense)              (None, 8)                 8200      \n",
      "                                                                 \n",
      "=================================================================\n",
      "Total params: 2,774,728\n",
      "Trainable params: 2,774,728\n",
      "Non-trainable params: 0\n",
      "_________________________________________________________________\n"
     ]
    },
    {
     "name": "stderr",
     "output_type": "stream",
     "text": [
      "D:\\Applications\\Anaconda\\envs\\venv\\lib\\site-packages\\tensorflow\\python\\util\\dispatch.py:1096: UserWarning: \"`sparse_categorical_crossentropy` received `from_logits=True`, but the `output` argument was produced by a sigmoid or softmax activation and thus does not represent logits. Was this intended?\"\n",
      "  return dispatch_target(*args, **kwargs)\n"
     ]
    },
    {
     "ename": "UnimplementedError",
     "evalue": " Cast string to int64 is not supported\n\t [[node sparse_categorical_crossentropy/Cast\n (defined at D:\\Applications\\Anaconda\\envs\\venv\\lib\\site-packages\\keras\\backend.py:1977)\n]] [Op:__inference_train_function_6351]\n\nErrors may have originated from an input operation.\nInput Source operations connected to node sparse_categorical_crossentropy/Cast:\nIn[0] ExpandDims (defined at D:\\Applications\\Anaconda\\envs\\venv\\lib\\site-packages\\keras\\engine\\compile_utils.py:677)\n\nOperation defined at: (most recent call last)\n>>>   File \"D:\\Applications\\Anaconda\\envs\\venv\\lib\\runpy.py\", line 193, in _run_module_as_main\n>>>     \"__main__\", mod_spec)\n>>> \n>>>   File \"D:\\Applications\\Anaconda\\envs\\venv\\lib\\runpy.py\", line 85, in _run_code\n>>>     exec(code, run_globals)\n>>> \n>>>   File \"D:\\Applications\\Anaconda\\envs\\venv\\lib\\site-packages\\ipykernel_launcher.py\", line 16, in <module>\n>>>     app.launch_new_instance()\n>>> \n>>>   File \"D:\\Applications\\Anaconda\\envs\\venv\\lib\\site-packages\\traitlets\\config\\application.py\", line 846, in launch_instance\n>>>     app.start()\n>>> \n>>>   File \"D:\\Applications\\Anaconda\\envs\\venv\\lib\\site-packages\\ipykernel\\kernelapp.py\", line 677, in start\n>>>     self.io_loop.start()\n>>> \n>>>   File \"D:\\Applications\\Anaconda\\envs\\venv\\lib\\site-packages\\tornado\\platform\\asyncio.py\", line 199, in start\n>>>     self.asyncio_loop.run_forever()\n>>> \n>>>   File \"D:\\Applications\\Anaconda\\envs\\venv\\lib\\asyncio\\base_events.py\", line 541, in run_forever\n>>>     self._run_once()\n>>> \n>>>   File \"D:\\Applications\\Anaconda\\envs\\venv\\lib\\asyncio\\base_events.py\", line 1786, in _run_once\n>>>     handle._run()\n>>> \n>>>   File \"D:\\Applications\\Anaconda\\envs\\venv\\lib\\asyncio\\events.py\", line 88, in _run\n>>>     self._context.run(self._callback, *self._args)\n>>> \n>>>   File \"D:\\Applications\\Anaconda\\envs\\venv\\lib\\site-packages\\ipykernel\\kernelbase.py\", line 457, in dispatch_queue\n>>>     await self.process_one()\n>>> \n>>>   File \"D:\\Applications\\Anaconda\\envs\\venv\\lib\\site-packages\\ipykernel\\kernelbase.py\", line 446, in process_one\n>>>     await dispatch(*args)\n>>> \n>>>   File \"D:\\Applications\\Anaconda\\envs\\venv\\lib\\site-packages\\ipykernel\\kernelbase.py\", line 353, in dispatch_shell\n>>>     await result\n>>> \n>>>   File \"D:\\Applications\\Anaconda\\envs\\venv\\lib\\site-packages\\ipykernel\\kernelbase.py\", line 648, in execute_request\n>>>     reply_content = await reply_content\n>>> \n>>>   File \"D:\\Applications\\Anaconda\\envs\\venv\\lib\\site-packages\\ipykernel\\ipkernel.py\", line 353, in do_execute\n>>>     res = shell.run_cell(code, store_history=store_history, silent=silent)\n>>> \n>>>   File \"D:\\Applications\\Anaconda\\envs\\venv\\lib\\site-packages\\ipykernel\\zmqshell.py\", line 533, in run_cell\n>>>     return super(ZMQInteractiveShell, self).run_cell(*args, **kwargs)\n>>> \n>>>   File \"D:\\Applications\\Anaconda\\envs\\venv\\lib\\site-packages\\IPython\\core\\interactiveshell.py\", line 2902, in run_cell\n>>>     raw_cell, store_history, silent, shell_futures)\n>>> \n>>>   File \"D:\\Applications\\Anaconda\\envs\\venv\\lib\\site-packages\\IPython\\core\\interactiveshell.py\", line 2947, in _run_cell\n>>>     return runner(coro)\n>>> \n>>>   File \"D:\\Applications\\Anaconda\\envs\\venv\\lib\\site-packages\\IPython\\core\\async_helpers.py\", line 68, in _pseudo_sync_runner\n>>>     coro.send(None)\n>>> \n>>>   File \"D:\\Applications\\Anaconda\\envs\\venv\\lib\\site-packages\\IPython\\core\\interactiveshell.py\", line 3173, in run_cell_async\n>>>     interactivity=interactivity, compiler=compiler, result=result)\n>>> \n>>>   File \"D:\\Applications\\Anaconda\\envs\\venv\\lib\\site-packages\\IPython\\core\\interactiveshell.py\", line 3364, in run_ast_nodes\n>>>     if (await self.run_code(code, result,  async_=asy)):\n>>> \n>>>   File \"D:\\Applications\\Anaconda\\envs\\venv\\lib\\site-packages\\IPython\\core\\interactiveshell.py\", line 3444, in run_code\n>>>     exec(code_obj, self.user_global_ns, self.user_ns)\n>>> \n>>>   File \"C:\\Users\\tobaa\\AppData\\Local\\Temp/ipykernel_19372/1805509934.py\", line 2, in <module>\n>>>     age_model.train_model(age_train_data, age_val_data)\n>>> \n>>>   File \"D:\\Git Repos\\Machine_Learning\\Classification_Projects\\Age and Gender Detection\\Training_Module.py\", line 143, in train_model\n>>>     callbacks=[early_stopping_callback, tensorboard_callback])\n>>> \n>>>   File \"D:\\Applications\\Anaconda\\envs\\venv\\lib\\site-packages\\keras\\utils\\traceback_utils.py\", line 64, in error_handler\n>>>     return fn(*args, **kwargs)\n>>> \n>>>   File \"D:\\Applications\\Anaconda\\envs\\venv\\lib\\site-packages\\keras\\engine\\training.py\", line 1216, in fit\n>>>     tmp_logs = self.train_function(iterator)\n>>> \n>>>   File \"D:\\Applications\\Anaconda\\envs\\venv\\lib\\site-packages\\keras\\engine\\training.py\", line 878, in train_function\n>>>     return step_function(self, iterator)\n>>> \n>>>   File \"D:\\Applications\\Anaconda\\envs\\venv\\lib\\site-packages\\keras\\engine\\training.py\", line 867, in step_function\n>>>     outputs = model.distribute_strategy.run(run_step, args=(data,))\n>>> \n>>>   File \"D:\\Applications\\Anaconda\\envs\\venv\\lib\\site-packages\\keras\\engine\\training.py\", line 860, in run_step\n>>>     outputs = model.train_step(data)\n>>> \n>>>   File \"D:\\Applications\\Anaconda\\envs\\venv\\lib\\site-packages\\keras\\engine\\training.py\", line 810, in train_step\n>>>     y, y_pred, sample_weight, regularization_losses=self.losses)\n>>> \n>>>   File \"D:\\Applications\\Anaconda\\envs\\venv\\lib\\site-packages\\keras\\engine\\compile_utils.py\", line 201, in __call__\n>>>     loss_value = loss_obj(y_t, y_p, sample_weight=sw)\n>>> \n>>>   File \"D:\\Applications\\Anaconda\\envs\\venv\\lib\\site-packages\\keras\\losses.py\", line 141, in __call__\n>>>     losses = call_fn(y_true, y_pred)\n>>> \n>>>   File \"D:\\Applications\\Anaconda\\envs\\venv\\lib\\site-packages\\keras\\losses.py\", line 245, in call\n>>>     return ag_fn(y_true, y_pred, **self._fn_kwargs)\n>>> \n>>>   File \"D:\\Applications\\Anaconda\\envs\\venv\\lib\\site-packages\\keras\\losses.py\", line 1738, in sparse_categorical_crossentropy\n>>>     y_true, y_pred, from_logits=from_logits, axis=axis)\n>>> \n>>>   File \"D:\\Applications\\Anaconda\\envs\\venv\\lib\\site-packages\\keras\\backend.py\", line 5098, in sparse_categorical_crossentropy\n>>>     target = cast(target, 'int64')\n>>> \n>>>   File \"D:\\Applications\\Anaconda\\envs\\venv\\lib\\site-packages\\keras\\backend.py\", line 1977, in cast\n>>>     return tf.cast(x, dtype)\n>>> ",
     "output_type": "error",
     "traceback": [
      "\u001B[1;31m---------------------------------------------------------------------------\u001B[0m",
      "\u001B[1;31mUnimplementedError\u001B[0m                        Traceback (most recent call last)",
      "\u001B[1;32m~\\AppData\\Local\\Temp/ipykernel_19372/1805509934.py\u001B[0m in \u001B[0;36m<module>\u001B[1;34m\u001B[0m\n\u001B[0;32m      1\u001B[0m \u001B[0mage_model\u001B[0m \u001B[1;33m=\u001B[0m \u001B[0mAgeGenderModel\u001B[0m\u001B[1;33m(\u001B[0m\u001B[0moutput_size\u001B[0m\u001B[1;33m=\u001B[0m\u001B[1;36m8\u001B[0m\u001B[1;33m,\u001B[0m \u001B[0mdata\u001B[0m\u001B[1;33m=\u001B[0m\u001B[1;34m'age'\u001B[0m\u001B[1;33m)\u001B[0m\u001B[1;33m\u001B[0m\u001B[1;33m\u001B[0m\u001B[0m\n\u001B[1;32m----> 2\u001B[1;33m \u001B[0mage_model\u001B[0m\u001B[1;33m.\u001B[0m\u001B[0mtrain_model\u001B[0m\u001B[1;33m(\u001B[0m\u001B[0mage_train_data\u001B[0m\u001B[1;33m,\u001B[0m \u001B[0mage_val_data\u001B[0m\u001B[1;33m)\u001B[0m\u001B[1;33m\u001B[0m\u001B[1;33m\u001B[0m\u001B[0m\n\u001B[0m",
      "\u001B[1;32mD:\\Git Repos\\Machine_Learning\\Classification_Projects\\Age and Gender Detection\\Training_Module.py\u001B[0m in \u001B[0;36mtrain_model\u001B[1;34m(self, train_data, val_data, epochs)\u001B[0m\n\u001B[0;32m    141\u001B[0m                                          \u001B[0mverbose\u001B[0m\u001B[1;33m=\u001B[0m\u001B[1;36m0\u001B[0m\u001B[1;33m,\u001B[0m\u001B[1;33m\u001B[0m\u001B[1;33m\u001B[0m\u001B[0m\n\u001B[0;32m    142\u001B[0m                                          \u001B[0mvalidation_data\u001B[0m\u001B[1;33m=\u001B[0m\u001B[0mval_data\u001B[0m\u001B[1;33m,\u001B[0m\u001B[1;33m\u001B[0m\u001B[1;33m\u001B[0m\u001B[0m\n\u001B[1;32m--> 143\u001B[1;33m                                          callbacks=[early_stopping_callback, tensorboard_callback])\n\u001B[0m\u001B[0;32m    144\u001B[0m         \u001B[1;32mreturn\u001B[0m \u001B[0mhistory\u001B[0m\u001B[1;33m\u001B[0m\u001B[1;33m\u001B[0m\u001B[0m\n\u001B[0;32m    145\u001B[0m \u001B[1;33m\u001B[0m\u001B[0m\n",
      "\u001B[1;32mD:\\Applications\\Anaconda\\envs\\venv\\lib\\site-packages\\keras\\utils\\traceback_utils.py\u001B[0m in \u001B[0;36merror_handler\u001B[1;34m(*args, **kwargs)\u001B[0m\n\u001B[0;32m     65\u001B[0m     \u001B[1;32mexcept\u001B[0m \u001B[0mException\u001B[0m \u001B[1;32mas\u001B[0m \u001B[0me\u001B[0m\u001B[1;33m:\u001B[0m  \u001B[1;31m# pylint: disable=broad-except\u001B[0m\u001B[1;33m\u001B[0m\u001B[1;33m\u001B[0m\u001B[0m\n\u001B[0;32m     66\u001B[0m       \u001B[0mfiltered_tb\u001B[0m \u001B[1;33m=\u001B[0m \u001B[0m_process_traceback_frames\u001B[0m\u001B[1;33m(\u001B[0m\u001B[0me\u001B[0m\u001B[1;33m.\u001B[0m\u001B[0m__traceback__\u001B[0m\u001B[1;33m)\u001B[0m\u001B[1;33m\u001B[0m\u001B[1;33m\u001B[0m\u001B[0m\n\u001B[1;32m---> 67\u001B[1;33m       \u001B[1;32mraise\u001B[0m \u001B[0me\u001B[0m\u001B[1;33m.\u001B[0m\u001B[0mwith_traceback\u001B[0m\u001B[1;33m(\u001B[0m\u001B[0mfiltered_tb\u001B[0m\u001B[1;33m)\u001B[0m \u001B[1;32mfrom\u001B[0m \u001B[1;32mNone\u001B[0m\u001B[1;33m\u001B[0m\u001B[1;33m\u001B[0m\u001B[0m\n\u001B[0m\u001B[0;32m     68\u001B[0m     \u001B[1;32mfinally\u001B[0m\u001B[1;33m:\u001B[0m\u001B[1;33m\u001B[0m\u001B[1;33m\u001B[0m\u001B[0m\n\u001B[0;32m     69\u001B[0m       \u001B[1;32mdel\u001B[0m \u001B[0mfiltered_tb\u001B[0m\u001B[1;33m\u001B[0m\u001B[1;33m\u001B[0m\u001B[0m\n",
      "\u001B[1;32mD:\\Applications\\Anaconda\\envs\\venv\\lib\\site-packages\\tensorflow\\python\\eager\\execute.py\u001B[0m in \u001B[0;36mquick_execute\u001B[1;34m(op_name, num_outputs, inputs, attrs, ctx, name)\u001B[0m\n\u001B[0;32m     57\u001B[0m     \u001B[0mctx\u001B[0m\u001B[1;33m.\u001B[0m\u001B[0mensure_initialized\u001B[0m\u001B[1;33m(\u001B[0m\u001B[1;33m)\u001B[0m\u001B[1;33m\u001B[0m\u001B[1;33m\u001B[0m\u001B[0m\n\u001B[0;32m     58\u001B[0m     tensors = pywrap_tfe.TFE_Py_Execute(ctx._handle, device_name, op_name,\n\u001B[1;32m---> 59\u001B[1;33m                                         inputs, attrs, num_outputs)\n\u001B[0m\u001B[0;32m     60\u001B[0m   \u001B[1;32mexcept\u001B[0m \u001B[0mcore\u001B[0m\u001B[1;33m.\u001B[0m\u001B[0m_NotOkStatusException\u001B[0m \u001B[1;32mas\u001B[0m \u001B[0me\u001B[0m\u001B[1;33m:\u001B[0m\u001B[1;33m\u001B[0m\u001B[1;33m\u001B[0m\u001B[0m\n\u001B[0;32m     61\u001B[0m     \u001B[1;32mif\u001B[0m \u001B[0mname\u001B[0m \u001B[1;32mis\u001B[0m \u001B[1;32mnot\u001B[0m \u001B[1;32mNone\u001B[0m\u001B[1;33m:\u001B[0m\u001B[1;33m\u001B[0m\u001B[1;33m\u001B[0m\u001B[0m\n",
      "\u001B[1;31mUnimplementedError\u001B[0m:  Cast string to int64 is not supported\n\t [[node sparse_categorical_crossentropy/Cast\n (defined at D:\\Applications\\Anaconda\\envs\\venv\\lib\\site-packages\\keras\\backend.py:1977)\n]] [Op:__inference_train_function_6351]\n\nErrors may have originated from an input operation.\nInput Source operations connected to node sparse_categorical_crossentropy/Cast:\nIn[0] ExpandDims (defined at D:\\Applications\\Anaconda\\envs\\venv\\lib\\site-packages\\keras\\engine\\compile_utils.py:677)\n\nOperation defined at: (most recent call last)\n>>>   File \"D:\\Applications\\Anaconda\\envs\\venv\\lib\\runpy.py\", line 193, in _run_module_as_main\n>>>     \"__main__\", mod_spec)\n>>> \n>>>   File \"D:\\Applications\\Anaconda\\envs\\venv\\lib\\runpy.py\", line 85, in _run_code\n>>>     exec(code, run_globals)\n>>> \n>>>   File \"D:\\Applications\\Anaconda\\envs\\venv\\lib\\site-packages\\ipykernel_launcher.py\", line 16, in <module>\n>>>     app.launch_new_instance()\n>>> \n>>>   File \"D:\\Applications\\Anaconda\\envs\\venv\\lib\\site-packages\\traitlets\\config\\application.py\", line 846, in launch_instance\n>>>     app.start()\n>>> \n>>>   File \"D:\\Applications\\Anaconda\\envs\\venv\\lib\\site-packages\\ipykernel\\kernelapp.py\", line 677, in start\n>>>     self.io_loop.start()\n>>> \n>>>   File \"D:\\Applications\\Anaconda\\envs\\venv\\lib\\site-packages\\tornado\\platform\\asyncio.py\", line 199, in start\n>>>     self.asyncio_loop.run_forever()\n>>> \n>>>   File \"D:\\Applications\\Anaconda\\envs\\venv\\lib\\asyncio\\base_events.py\", line 541, in run_forever\n>>>     self._run_once()\n>>> \n>>>   File \"D:\\Applications\\Anaconda\\envs\\venv\\lib\\asyncio\\base_events.py\", line 1786, in _run_once\n>>>     handle._run()\n>>> \n>>>   File \"D:\\Applications\\Anaconda\\envs\\venv\\lib\\asyncio\\events.py\", line 88, in _run\n>>>     self._context.run(self._callback, *self._args)\n>>> \n>>>   File \"D:\\Applications\\Anaconda\\envs\\venv\\lib\\site-packages\\ipykernel\\kernelbase.py\", line 457, in dispatch_queue\n>>>     await self.process_one()\n>>> \n>>>   File \"D:\\Applications\\Anaconda\\envs\\venv\\lib\\site-packages\\ipykernel\\kernelbase.py\", line 446, in process_one\n>>>     await dispatch(*args)\n>>> \n>>>   File \"D:\\Applications\\Anaconda\\envs\\venv\\lib\\site-packages\\ipykernel\\kernelbase.py\", line 353, in dispatch_shell\n>>>     await result\n>>> \n>>>   File \"D:\\Applications\\Anaconda\\envs\\venv\\lib\\site-packages\\ipykernel\\kernelbase.py\", line 648, in execute_request\n>>>     reply_content = await reply_content\n>>> \n>>>   File \"D:\\Applications\\Anaconda\\envs\\venv\\lib\\site-packages\\ipykernel\\ipkernel.py\", line 353, in do_execute\n>>>     res = shell.run_cell(code, store_history=store_history, silent=silent)\n>>> \n>>>   File \"D:\\Applications\\Anaconda\\envs\\venv\\lib\\site-packages\\ipykernel\\zmqshell.py\", line 533, in run_cell\n>>>     return super(ZMQInteractiveShell, self).run_cell(*args, **kwargs)\n>>> \n>>>   File \"D:\\Applications\\Anaconda\\envs\\venv\\lib\\site-packages\\IPython\\core\\interactiveshell.py\", line 2902, in run_cell\n>>>     raw_cell, store_history, silent, shell_futures)\n>>> \n>>>   File \"D:\\Applications\\Anaconda\\envs\\venv\\lib\\site-packages\\IPython\\core\\interactiveshell.py\", line 2947, in _run_cell\n>>>     return runner(coro)\n>>> \n>>>   File \"D:\\Applications\\Anaconda\\envs\\venv\\lib\\site-packages\\IPython\\core\\async_helpers.py\", line 68, in _pseudo_sync_runner\n>>>     coro.send(None)\n>>> \n>>>   File \"D:\\Applications\\Anaconda\\envs\\venv\\lib\\site-packages\\IPython\\core\\interactiveshell.py\", line 3173, in run_cell_async\n>>>     interactivity=interactivity, compiler=compiler, result=result)\n>>> \n>>>   File \"D:\\Applications\\Anaconda\\envs\\venv\\lib\\site-packages\\IPython\\core\\interactiveshell.py\", line 3364, in run_ast_nodes\n>>>     if (await self.run_code(code, result,  async_=asy)):\n>>> \n>>>   File \"D:\\Applications\\Anaconda\\envs\\venv\\lib\\site-packages\\IPython\\core\\interactiveshell.py\", line 3444, in run_code\n>>>     exec(code_obj, self.user_global_ns, self.user_ns)\n>>> \n>>>   File \"C:\\Users\\tobaa\\AppData\\Local\\Temp/ipykernel_19372/1805509934.py\", line 2, in <module>\n>>>     age_model.train_model(age_train_data, age_val_data)\n>>> \n>>>   File \"D:\\Git Repos\\Machine_Learning\\Classification_Projects\\Age and Gender Detection\\Training_Module.py\", line 143, in train_model\n>>>     callbacks=[early_stopping_callback, tensorboard_callback])\n>>> \n>>>   File \"D:\\Applications\\Anaconda\\envs\\venv\\lib\\site-packages\\keras\\utils\\traceback_utils.py\", line 64, in error_handler\n>>>     return fn(*args, **kwargs)\n>>> \n>>>   File \"D:\\Applications\\Anaconda\\envs\\venv\\lib\\site-packages\\keras\\engine\\training.py\", line 1216, in fit\n>>>     tmp_logs = self.train_function(iterator)\n>>> \n>>>   File \"D:\\Applications\\Anaconda\\envs\\venv\\lib\\site-packages\\keras\\engine\\training.py\", line 878, in train_function\n>>>     return step_function(self, iterator)\n>>> \n>>>   File \"D:\\Applications\\Anaconda\\envs\\venv\\lib\\site-packages\\keras\\engine\\training.py\", line 867, in step_function\n>>>     outputs = model.distribute_strategy.run(run_step, args=(data,))\n>>> \n>>>   File \"D:\\Applications\\Anaconda\\envs\\venv\\lib\\site-packages\\keras\\engine\\training.py\", line 860, in run_step\n>>>     outputs = model.train_step(data)\n>>> \n>>>   File \"D:\\Applications\\Anaconda\\envs\\venv\\lib\\site-packages\\keras\\engine\\training.py\", line 810, in train_step\n>>>     y, y_pred, sample_weight, regularization_losses=self.losses)\n>>> \n>>>   File \"D:\\Applications\\Anaconda\\envs\\venv\\lib\\site-packages\\keras\\engine\\compile_utils.py\", line 201, in __call__\n>>>     loss_value = loss_obj(y_t, y_p, sample_weight=sw)\n>>> \n>>>   File \"D:\\Applications\\Anaconda\\envs\\venv\\lib\\site-packages\\keras\\losses.py\", line 141, in __call__\n>>>     losses = call_fn(y_true, y_pred)\n>>> \n>>>   File \"D:\\Applications\\Anaconda\\envs\\venv\\lib\\site-packages\\keras\\losses.py\", line 245, in call\n>>>     return ag_fn(y_true, y_pred, **self._fn_kwargs)\n>>> \n>>>   File \"D:\\Applications\\Anaconda\\envs\\venv\\lib\\site-packages\\keras\\losses.py\", line 1738, in sparse_categorical_crossentropy\n>>>     y_true, y_pred, from_logits=from_logits, axis=axis)\n>>> \n>>>   File \"D:\\Applications\\Anaconda\\envs\\venv\\lib\\site-packages\\keras\\backend.py\", line 5098, in sparse_categorical_crossentropy\n>>>     target = cast(target, 'int64')\n>>> \n>>>   File \"D:\\Applications\\Anaconda\\envs\\venv\\lib\\site-packages\\keras\\backend.py\", line 1977, in cast\n>>>     return tf.cast(x, dtype)\n>>> "
     ]
    }
   ],
   "source": [
    "age_model = AgeGenderModel(output_size=8, data='age')\n",
    "age_model.train_model(age_train_data, age_val_data)"
   ],
   "metadata": {
    "collapsed": false,
    "pycharm": {
     "name": "#%%\n"
    }
   }
  },
  {
   "cell_type": "code",
   "execution_count": null,
   "outputs": [],
   "source": [
    "'''\n",
    "# Load the TensorBoard notebook extension\n",
    "%load_ext tensorboard\n",
    "\n",
    "# Clear any logs from previous runs\n",
    "%rm -rf ./logs/\n",
    "\n",
    "# begin training\n",
    "#age_model.train_model(age_train, age_val, 50)\n",
    "\n",
    "# visualize and debug with Tensorboard\n",
    "%tensorboard --logdir logs/fit\n",
    "'''"
   ],
   "metadata": {
    "collapsed": false,
    "pycharm": {
     "name": "#%%\n"
    }
   }
  }
 ],
 "metadata": {
  "kernelspec": {
   "display_name": "Python 3",
   "language": "python",
   "name": "python3"
  },
  "language_info": {
   "codemirror_mode": {
    "name": "ipython",
    "version": 2
   },
   "file_extension": ".py",
   "mimetype": "text/x-python",
   "name": "python",
   "nbconvert_exporter": "python",
   "pygments_lexer": "ipython2",
   "version": "2.7.6"
  }
 },
 "nbformat": 4,
 "nbformat_minor": 0
}