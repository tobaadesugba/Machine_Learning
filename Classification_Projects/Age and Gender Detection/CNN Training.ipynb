{
 "cells": [
  {
   "cell_type": "code",
   "execution_count": 1,
   "outputs": [],
   "source": [
    "import tensorflow as tf"
   ],
   "metadata": {
    "collapsed": false,
    "pycharm": {
     "name": "#%%\n"
    }
   }
  },
  {
   "cell_type": "markdown",
   "metadata": {
    "collapsed": true,
    "pycharm": {
     "name": "#%% md\n"
    }
   },
   "source": [
    "### Loading The Dataset"
   ]
  },
  {
   "cell_type": "code",
   "execution_count": 2,
   "outputs": [],
   "source": [
    "\n",
    "def load_data(data, mode):\n",
    "    save_path = \"D:\\\\The Great Big World of Machine Learning\\Projects\\datasets\\AdienceBenchmarkGenderAndAgeClassification\\\\TFDataset\"\n",
    "    dataset = tf.data.experimental.load(save_path+\"\\\\\"+data+\"\\\\\"+mode) # save dataset to file\n",
    "    print(f\"{data} {mode} loaded\")\n",
    "    return dataset"
   ],
   "metadata": {
    "collapsed": false,
    "pycharm": {
     "name": "#%%\n"
    }
   }
  },
  {
   "cell_type": "code",
   "execution_count": 9,
   "outputs": [
    {
     "ename": "TypeError",
     "evalue": "`unique()` does not support type <dtype: 'float32'>, only `tf.int32`, `tf.int64`, and `tf.string` are supported.",
     "output_type": "error",
     "traceback": [
      "\u001B[1;31m---------------------------------------------------------------------------\u001B[0m",
      "\u001B[1;31mTypeError\u001B[0m                                 Traceback (most recent call last)",
      "\u001B[1;32m~\\AppData\\Local\\Temp/ipykernel_4448/2793028691.py\u001B[0m in \u001B[0;36m<module>\u001B[1;34m\u001B[0m\n\u001B[1;32m----> 1\u001B[1;33m \u001B[0mdata\u001B[0m\u001B[1;33m.\u001B[0m\u001B[0munique\u001B[0m\u001B[1;33m(\u001B[0m\u001B[1;33m)\u001B[0m\u001B[1;33m\u001B[0m\u001B[1;33m\u001B[0m\u001B[0m\n\u001B[0m",
      "\u001B[1;32mD:\\Applications\\Anaconda\\envs\\venv\\lib\\site-packages\\tensorflow\\python\\data\\ops\\dataset_ops.py\u001B[0m in \u001B[0;36munique\u001B[1;34m(self, name)\u001B[0m\n\u001B[0;32m   3131\u001B[0m     \"\"\"\n\u001B[0;32m   3132\u001B[0m \u001B[1;33m\u001B[0m\u001B[0m\n\u001B[1;32m-> 3133\u001B[1;33m     \u001B[1;32mreturn\u001B[0m \u001B[0m_UniqueDataset\u001B[0m\u001B[1;33m(\u001B[0m\u001B[0mself\u001B[0m\u001B[1;33m,\u001B[0m \u001B[0mname\u001B[0m\u001B[1;33m=\u001B[0m\u001B[0mname\u001B[0m\u001B[1;33m)\u001B[0m\u001B[1;33m\u001B[0m\u001B[1;33m\u001B[0m\u001B[0m\n\u001B[0m\u001B[0;32m   3134\u001B[0m \u001B[1;33m\u001B[0m\u001B[0m\n\u001B[0;32m   3135\u001B[0m   def rejection_resample(self,\n",
      "\u001B[1;32mD:\\Applications\\Anaconda\\envs\\venv\\lib\\site-packages\\tensorflow\\python\\data\\ops\\dataset_ops.py\u001B[0m in \u001B[0;36m__init__\u001B[1;34m(self, input_dataset, name)\u001B[0m\n\u001B[0;32m   6301\u001B[0m       \u001B[1;32mif\u001B[0m \u001B[0mty\u001B[0m \u001B[1;32mnot\u001B[0m \u001B[1;32min\u001B[0m \u001B[1;33m(\u001B[0m\u001B[0mdtypes\u001B[0m\u001B[1;33m.\u001B[0m\u001B[0mint32\u001B[0m\u001B[1;33m,\u001B[0m \u001B[0mdtypes\u001B[0m\u001B[1;33m.\u001B[0m\u001B[0mint64\u001B[0m\u001B[1;33m,\u001B[0m \u001B[0mdtypes\u001B[0m\u001B[1;33m.\u001B[0m\u001B[0mstring\u001B[0m\u001B[1;33m)\u001B[0m\u001B[1;33m:\u001B[0m\u001B[1;33m\u001B[0m\u001B[1;33m\u001B[0m\u001B[0m\n\u001B[0;32m   6302\u001B[0m         raise TypeError(\n\u001B[1;32m-> 6303\u001B[1;33m             \u001B[1;34mf\"`unique()` does not support type {ty}, only `tf.int32`, \"\u001B[0m\u001B[1;33m\u001B[0m\u001B[1;33m\u001B[0m\u001B[0m\n\u001B[0m\u001B[0;32m   6304\u001B[0m             f\"`tf.int64`, and `tf.string` are supported.\")\n\u001B[0;32m   6305\u001B[0m     \u001B[0mself\u001B[0m\u001B[1;33m.\u001B[0m\u001B[0m_metadata\u001B[0m \u001B[1;33m=\u001B[0m \u001B[0mdataset_metadata_pb2\u001B[0m\u001B[1;33m.\u001B[0m\u001B[0mMetadata\u001B[0m\u001B[1;33m(\u001B[0m\u001B[1;33m)\u001B[0m\u001B[1;33m\u001B[0m\u001B[1;33m\u001B[0m\u001B[0m\n",
      "\u001B[1;31mTypeError\u001B[0m: `unique()` does not support type <dtype: 'float32'>, only `tf.int32`, `tf.int64`, and `tf.string` are supported."
     ]
    }
   ],
   "source": [
    "datasets = {'age': [],\n",
    "            'gender': []\n",
    "            }\n",
    "modes = ['train', 'test', 'val']\n",
    "\n",
    "for datum in datasets.keys:\n",
    "    for mode in modes:\n",
    "        data = load_data(data=datum, mode=mode)\n",
    "        datasets[datum].append(data)\n"
   ],
   "metadata": {
    "collapsed": false,
    "pycharm": {
     "name": "#%%\n"
    }
   }
  },
  {
   "cell_type": "code",
   "execution_count": 13,
   "outputs": [
    {
     "name": "stdout",
     "output_type": "stream",
     "text": [
      "tf.Tensor(b'f', shape=(), dtype=string)\n"
     ]
    }
   ],
   "source": [
    "# define model layers\n",
    "output_size = 2 # num of classes\n",
    "age_train = datasets['age'][0] # training data\n",
    "age_val = datasets['age'][2]\n",
    "age_test = datasets['age'][1]\n",
    "data = 'age'\n",
    "\n",
    "from Training_Module import AgeGenderModel\n",
    "age_model = AgeGenderModel(output_size=output_size, data=data)"
   ],
   "metadata": {
    "collapsed": false,
    "pycharm": {
     "name": "#%%\n"
    }
   }
  },
  {
   "cell_type": "code",
   "execution_count": null,
   "outputs": [],
   "source": [
    "# Load the TensorBoard notebook extension\n",
    "%load_ext tensorboard\n",
    "\n",
    "# Clear any logs from previous runs\n",
    "%rm -rf ./logs/\n",
    "\n",
    "# begin training\n",
    "age_model.train_model(age_train, age_val, 50)\n",
    "\n",
    "# visualize and debug with Tensorboard\n",
    "%tensorboard --logdir logs/fit"
   ],
   "metadata": {
    "collapsed": false,
    "pycharm": {
     "name": "#%%\n"
    }
   }
  }
 ],
 "metadata": {
  "kernelspec": {
   "display_name": "Python 3",
   "language": "python",
   "name": "python3"
  },
  "language_info": {
   "codemirror_mode": {
    "name": "ipython",
    "version": 2
   },
   "file_extension": ".py",
   "mimetype": "text/x-python",
   "name": "python",
   "nbconvert_exporter": "python",
   "pygments_lexer": "ipython2",
   "version": "2.7.6"
  }
 },
 "nbformat": 4,
 "nbformat_minor": 0
}