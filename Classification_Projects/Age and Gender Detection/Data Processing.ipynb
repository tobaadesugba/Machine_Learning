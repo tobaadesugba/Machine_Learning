{
 "cells": [
  {
   "cell_type": "markdown",
   "source": [
    "Using the csv file to get the directory url for each image"
   ],
   "metadata": {
    "collapsed": false
   }
  },
  {
   "cell_type": "code",
   "execution_count": 1,
   "metadata": {
    "collapsed": true
   },
   "outputs": [],
   "source": [
    "import pandas as pd\n",
    "import tensorflow as tf\n",
    "import os.path"
   ]
  },
  {
   "cell_type": "code",
   "execution_count": 2,
   "outputs": [
    {
     "data": {
      "text/plain": "'2.7.0'"
     },
     "execution_count": 2,
     "metadata": {},
     "output_type": "execute_result"
    }
   ],
   "source": [
    "tf.__version__"
   ],
   "metadata": {
    "collapsed": false,
    "pycharm": {
     "name": "#%%\n"
    }
   }
  },
  {
   "cell_type": "markdown",
   "source": [],
   "metadata": {
    "collapsed": false
   }
  },
  {
   "cell_type": "markdown",
   "source": [
    "From the image below, we can note the image name always starts with \"coarse_tilt_aligned_face\" followed by the face_id and then the original image name, all separated by a dot. We can use this pattern to create a new column called file_dir, this will enable us to easily read the images. The user_id is the folder where the image is contained.\n",
    "![image](sample.png)"
   ],
   "metadata": {
    "collapsed": false
   }
  },
  {
   "cell_type": "code",
   "execution_count": 2,
   "outputs": [],
   "source": [
    "def get_filename():\n",
    "    folder = age_data['user_id']\n",
    "    sep = '.'\n",
    "    face_id = age_data['face_id']\n",
    "    orig_image = age_data['original_image']\n",
    "    file_name = '\\\\'+ folder + '\\\\'+\"coarse_tilt_aligned_face.\"+str(face_id) +sep+ orig_image\n",
    "    return file_name"
   ],
   "metadata": {
    "collapsed": false,
    "pycharm": {
     "name": "#%%\n"
    }
   }
  },
  {
   "cell_type": "code",
   "execution_count": 4,
   "outputs": [
    {
     "name": "stdout",
     "output_type": "stream",
     "text": [
      "D:\\The Great Big World of Machine Learning\\Projects\\datasets\\AdienceBenchmarkGenderAndAgeClassification\\faces\n"
     ]
    }
   ],
   "source": [
    "def decode_image(filename, image_type, resize_shape, channels=3):\n",
    "    value = tf.io.read_file(filename)\n",
    "    if image_type == 'png':\n",
    "        decoded_image = tf.io.decode_png(value, channels=channels)\n",
    "    elif image_type == 'jpg':\n",
    "        decoded_image = tf.io.decode_jpeg(value, channels=channels)\n",
    "    else:\n",
    "        decoded_image = tf.io.decode_image(value, channels=channels)\n",
    "    if resize_shape is not None and image_type in ['png', 'jpg']:\n",
    "        decoded_image = tf.image.resize(decoded_image, resize_shape)\n",
    "    return decoded_image"
   ],
   "metadata": {
    "collapsed": false,
    "pycharm": {
     "name": "#%%\n"
    }
   }
  },
  {
   "cell_type": "code",
   "execution_count": 15,
   "outputs": [
    {
     "name": "stdout",
     "output_type": "stream",
     "text": [
      "b'\\xff\\xd8\\xff\\xe0\\x00\\x10JFIF\\x00\\x01\\x01\\x00\\x00\\x01\\x00\\x01\\x00\\x00'\n"
     ]
    }
   ],
   "source": [
    "def get_dataset(image_paths, label_list, resize_shape, channels=3):\n",
    "    def _map_fn(filename):\n",
    "        extension = os.path.splitext(filename)[1][1:] #getting the file extension for the image type\n",
    "        return decode_image(filename, image_type=extension, resize_shape=resize_shape, channels=channels)\n",
    "    image_tensor = map(_map_fn, image_paths)\n",
    "    label_tensor = tf.constant(label_list)\n",
    "    dataset = tf.data.Dataset.from_tensor_slices(image_tensor, label_tensor)\n",
    "\n",
    "    return dataset"
   ],
   "metadata": {
    "collapsed": false,
    "pycharm": {
     "name": "#%%\n"
    }
   }
  },
  {
   "cell_type": "code",
   "execution_count": 4,
   "outputs": [
    {
     "name": "stdout",
     "output_type": "stream",
     "text": [
      "D:\\The Great Big World of Machine Learning\\Projects\\datasets\\AdienceBenchmarkGenderAndAgeClassification\\faces\n"
     ]
    }
   ],
   "source": [
    "dataset_dir = \"D:\\\\The Great Big World of Machine Learning\\Projects\\datasets\\AdienceBenchmarkGenderAndAgeClassification\\\\faces\"\n",
    "print(dataset_dir)"
   ],
   "metadata": {
    "collapsed": false,
    "pycharm": {
     "name": "#%%\n"
    }
   }
  },
  {
   "cell_type": "code",
   "execution_count": 4,
   "outputs": [
    {
     "name": "stdout",
     "output_type": "stream",
     "text": [
      "        user_id                original_image  face_id        age\n",
      "0  30601258@N03  10399646885_67c7d20df9_o.jpg        1  (25 - 36)\n",
      "1  30601258@N03  10424815813_e94629b1ec_o.jpg        2  (25 - 36)\n",
      "2  30601258@N03  10437979845_5985be4b26_o.jpg        1  (25 - 36)\n",
      "        user_id                original_image  face_id gender\n",
      "0  30601258@N03  10399646885_67c7d20df9_o.jpg        1      f\n",
      "1  30601258@N03  10424815813_e94629b1ec_o.jpg        2      m\n",
      "2  30601258@N03  10437979845_5985be4b26_o.jpg        1      f\n"
     ]
    }
   ],
   "source": [
    "age_data = pd.read_csv(\"age_data.csv\")\n",
    "print(age_data.head(3))\n",
    "\n",
    "gender_data = pd.read_csv(\"gender_data.csv\")\n",
    "print(gender_data.head(3))"
   ],
   "metadata": {
    "collapsed": false,
    "pycharm": {
     "name": "#%%\n"
    }
   }
  },
  {
   "cell_type": "code",
   "execution_count": 5,
   "outputs": [],
   "source": [
    "image_paths = get_filename()"
   ],
   "metadata": {
    "collapsed": false,
    "pycharm": {
     "name": "#%%\n"
    }
   }
  },
  {
   "cell_type": "code",
   "execution_count": 37,
   "outputs": [
    {
     "data": {
      "text/plain": "<tf.Tensor: shape=(18622,), dtype=string, numpy=\narray([b'(25 - 36)', b'(25 - 36)', b'(25 - 36)', ..., b'(25 - 36)',\n       b'(25 - 36)', b'(25 - 36)'], dtype=object)>"
     },
     "execution_count": 37,
     "metadata": {},
     "output_type": "execute_result"
    }
   ],
   "source": [],
   "metadata": {
    "collapsed": false,
    "pycharm": {
     "name": "#%%\n"
    }
   }
  },
  {
   "cell_type": "code",
   "execution_count": 11,
   "outputs": [],
   "source": [
    "import matplotlib.pyplot as plt"
   ],
   "metadata": {
    "collapsed": false,
    "pycharm": {
     "name": "#%%\n"
    }
   }
  },
  {
   "cell_type": "code",
   "execution_count": 33,
   "outputs": [
    {
     "data": {
      "text/plain": "<Figure size 432x288 with 1 Axes>",
      "image/png": "[encoded data removed]"
     },
     "metadata": {
      "needs_background": "light"
     },
     "output_type": "display_data"
    }
   ],
   "source": [
    "plt.imshow((dcd / 255.0).numpy())\n",
    "plt.show()"
   ],
   "metadata": {
    "collapsed": false,
    "pycharm": {
     "name": "#%%\n"
    }
   }
  },
  {
   "cell_type": "code",
   "execution_count": null,
   "outputs": [],
   "source": [],
   "metadata": {
    "collapsed": false,
    "pycharm": {
     "name": "#%%\n"
    }
   }
  }
 ],
 "metadata": {
  "kernelspec": {
   "display_name": "Python 3",
   "language": "python",
   "name": "python3"
  },
  "language_info": {
   "codemirror_mode": {
    "name": "ipython",
    "version": 2
   },
   "file_extension": ".py",
   "mimetype": "text/x-python",
   "name": "python",
   "nbconvert_exporter": "python",
   "pygments_lexer": "ipython2",
   "version": "2.7.6"
  }
 },
 "nbformat": 4,
 "nbformat_minor": 0
}